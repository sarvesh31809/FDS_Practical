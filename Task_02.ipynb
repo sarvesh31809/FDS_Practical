{
  "nbformat": 4,
  "nbformat_minor": 0,
  "metadata": {
    "colab": {
      "provenance": [],
      "authorship_tag": "ABX9TyNuQ3DMOXGH4mHdS7hZm8M7",
      "include_colab_link": true
    },
    "kernelspec": {
      "name": "python3",
      "display_name": "Python 3"
    },
    "language_info": {
      "name": "python"
    }
  },
  "cells": [
    {
      "cell_type": "markdown",
      "metadata": {
        "id": "view-in-github",
        "colab_type": "text"
      },
      "source": [
        "<a href=\"https://colab.research.google.com/github/sarvesh31809/FDS_Practical/blob/main/Task_02.ipynb\" target=\"_parent\"><img src=\"https://colab.research.google.com/assets/colab-badge.svg\" alt=\"Open In Colab\"/></a>"
      ]
    },
    {
      "cell_type": "code",
      "execution_count": 20,
      "metadata": {
        "colab": {
          "base_uri": "https://localhost:8080/",
          "height": 332
        },
        "id": "3xN8du3dU2Zk",
        "outputId": "3670c6d0-5530-4cef-8b62-e78c62817991"
      },
      "outputs": [
        {
          "output_type": "error",
          "ename": "TclError",
          "evalue": "no display name and no $DISPLAY environment variable",
          "traceback": [
            "\u001b[0;31m---------------------------------------------------------------------------\u001b[0m",
            "\u001b[0;31mTclError\u001b[0m                                  Traceback (most recent call last)",
            "\u001b[0;32m<ipython-input-20-da2afae1a4bc>\u001b[0m in \u001b[0;36m<cell line: 53>\u001b[0;34m()\u001b[0m\n\u001b[1;32m     51\u001b[0m         \u001b[0mtransactions_tree\u001b[0m\u001b[0;34m.\u001b[0m\u001b[0mdelete\u001b[0m\u001b[0;34m(\u001b[0m\u001b[0;34m*\u001b[0m\u001b[0mtransactions_tree\u001b[0m\u001b[0;34m.\u001b[0m\u001b[0mget_children\u001b[0m\u001b[0;34m(\u001b[0m\u001b[0;34m)\u001b[0m\u001b[0;34m)\u001b[0m\u001b[0;34m\u001b[0m\u001b[0;34m\u001b[0m\u001b[0m\n\u001b[1;32m     52\u001b[0m \u001b[0;34m\u001b[0m\u001b[0m\n\u001b[0;32m---> 53\u001b[0;31m \u001b[0mroot\u001b[0m \u001b[0;34m=\u001b[0m \u001b[0mtk\u001b[0m\u001b[0;34m.\u001b[0m\u001b[0mTk\u001b[0m\u001b[0;34m(\u001b[0m\u001b[0;34m)\u001b[0m\u001b[0;34m\u001b[0m\u001b[0;34m\u001b[0m\u001b[0m\n\u001b[0m\u001b[1;32m     54\u001b[0m \u001b[0mroot\u001b[0m\u001b[0;34m.\u001b[0m\u001b[0mtitle\u001b[0m\u001b[0;34m(\u001b[0m\u001b[0;34m\"Expense Tracker\"\u001b[0m\u001b[0;34m)\u001b[0m\u001b[0;34m\u001b[0m\u001b[0;34m\u001b[0m\u001b[0m\n\u001b[1;32m     55\u001b[0m \u001b[0;34m\u001b[0m\u001b[0m\n",
            "\u001b[0;32m/usr/lib/python3.10/tkinter/__init__.py\u001b[0m in \u001b[0;36m__init__\u001b[0;34m(self, screenName, baseName, className, useTk, sync, use)\u001b[0m\n\u001b[1;32m   2297\u001b[0m                 \u001b[0mbaseName\u001b[0m \u001b[0;34m=\u001b[0m \u001b[0mbaseName\u001b[0m \u001b[0;34m+\u001b[0m \u001b[0mext\u001b[0m\u001b[0;34m\u001b[0m\u001b[0;34m\u001b[0m\u001b[0m\n\u001b[1;32m   2298\u001b[0m         \u001b[0minteractive\u001b[0m \u001b[0;34m=\u001b[0m \u001b[0;32mFalse\u001b[0m\u001b[0;34m\u001b[0m\u001b[0;34m\u001b[0m\u001b[0m\n\u001b[0;32m-> 2299\u001b[0;31m         \u001b[0mself\u001b[0m\u001b[0;34m.\u001b[0m\u001b[0mtk\u001b[0m \u001b[0;34m=\u001b[0m \u001b[0m_tkinter\u001b[0m\u001b[0;34m.\u001b[0m\u001b[0mcreate\u001b[0m\u001b[0;34m(\u001b[0m\u001b[0mscreenName\u001b[0m\u001b[0;34m,\u001b[0m \u001b[0mbaseName\u001b[0m\u001b[0;34m,\u001b[0m \u001b[0mclassName\u001b[0m\u001b[0;34m,\u001b[0m \u001b[0minteractive\u001b[0m\u001b[0;34m,\u001b[0m \u001b[0mwantobjects\u001b[0m\u001b[0;34m,\u001b[0m \u001b[0museTk\u001b[0m\u001b[0;34m,\u001b[0m \u001b[0msync\u001b[0m\u001b[0;34m,\u001b[0m \u001b[0muse\u001b[0m\u001b[0;34m)\u001b[0m\u001b[0;34m\u001b[0m\u001b[0;34m\u001b[0m\u001b[0m\n\u001b[0m\u001b[1;32m   2300\u001b[0m         \u001b[0;32mif\u001b[0m \u001b[0museTk\u001b[0m\u001b[0;34m:\u001b[0m\u001b[0;34m\u001b[0m\u001b[0;34m\u001b[0m\u001b[0m\n\u001b[1;32m   2301\u001b[0m             \u001b[0mself\u001b[0m\u001b[0;34m.\u001b[0m\u001b[0m_loadtk\u001b[0m\u001b[0;34m(\u001b[0m\u001b[0;34m)\u001b[0m\u001b[0;34m\u001b[0m\u001b[0;34m\u001b[0m\u001b[0m\n",
            "\u001b[0;31mTclError\u001b[0m: no display name and no $DISPLAY environment variable"
          ]
        }
      ],
      "source": [
        "import tkinter as tk\n",
        "from tkinter import ttk\n",
        "import os\n",
        "\n",
        "def add_transaction():\n",
        "    transaction_date = date_entry.get()\n",
        "    transaction_category = category_entry.get()\n",
        "    transaction_amount = amount_entry.get()\n",
        "\n",
        "    if transaction_date and transaction_category and transaction_amount:\n",
        "        with open(\"transactions.txt\", \"a\") as file:\n",
        "            file.write(f\"{transaction_date},{transaction_category},{transaction_amount}\\n\")\n",
        "        status_label.config(text=\"Transaction added successfully!\", fg=\"green\")\n",
        "        date_entry.delete(0, tk.END)\n",
        "        category_entry.delete(0, tk.END)\n",
        "        amount_entry.delete(0, tk.END)\n",
        "        view_transactions()\n",
        "    else:\n",
        "        status_label.config(text=\"Please fill all the fields!\", fg=\"red\")\n",
        "\n",
        "def delete_transaction():\n",
        "    selected_item = transactions_tree.selection()\n",
        "    if selected_item:\n",
        "        item_text = transactions_tree.item(selected_item, \"values\")\n",
        "        transaction_date, transaction_category, transaction_amount = item_text\n",
        "        with open(\"transactions.txt\", \"r\") as file:\n",
        "            lines = file.readlines()\n",
        "        with open(\"transactions.txt\", \"w\") as file:\n",
        "            for line in lines:\n",
        "                if line.strip() != f\"{transaction_date},{transaction_category},{transaction_amount}\":\n",
        "                    file.write(line)\n",
        "        status_label.config(text=\"Transaction deleted successfully!\", fg=\"green\")\n",
        "        view_transactions()\n",
        "    else:\n",
        "        status_label.config(text=\"Please select a transaction to delete!\", fg=\"red\")\n",
        "\n",
        "def view_transactions():\n",
        "    global transactions_tree\n",
        "    if os.path.exists(\"transactions.txt\"):\n",
        "        total_transaction = 0\n",
        "\n",
        "        transactions_tree.delete(*transactions_tree.get_children())\n",
        "        with open(\"transactions.txt\", \"r\") as file:\n",
        "            for line in file:\n",
        "                transaction_date, transaction_category, transaction_amount = line.strip().split(\",\")\n",
        "                transactions_tree.insert(\"\", tk.END, values=(transaction_date, transaction_category, transaction_amount))\n",
        "                total_transaction += float(transaction_amount)\n",
        "        total_label.config(text=f\"Total Transaction: {total_transaction:.2f}\")\n",
        "    else:\n",
        "        total_label.config(text=\"No transactions recorded.\")\n",
        "        transactions_tree.delete(*transactions_tree.get_children())\n",
        "\n",
        "root = tk.Tk()\n",
        "root.title(\"Expense Tracker\")\n",
        "\n",
        "# Create labels and entries for adding transactions\n",
        "date_label = tk.Label(root, text=\"Date (YYYY-MM-DD):\")\n",
        "date_label.grid(row=0, column=0, padx=5, pady=5)\n",
        "date_entry = tk.Entry(root)\n",
        "date_entry.grid(row=0, column=1, padx=5, pady=5)\n",
        "\n",
        "category_label = tk.Label(root, text=\"Category:\")\n",
        "category_label.grid(row=1, column=0, padx=5, pady=5)\n",
        "category_entry = tk.Entry(root)\n",
        "category_entry.grid(row=1, column=1, padx=5, pady=5)\n",
        "\n",
        "amount_label = tk.Label(root, text=\"Amount:\")\n",
        "amount_label.grid(row=2, column=0, padx=5, pady=5)\n",
        "amount_entry = tk.Entry(root)\n",
        "amount_entry.grid(row=2, column=1, padx=5, pady=5)\n",
        "\n",
        "add_button = tk.Button(root, text=\"Add Transaction\", command=add_transaction)\n",
        "add_button.grid(row=3, column=0, columnspan=2, padx=5, pady=10)\n",
        "\n",
        "# Create a treeview to display transactions\n",
        "columns = (\"Date\", \"Category\", \"Amount\")\n",
        "transactions_tree = ttk.Treeview(root, columns=columns, show=\"headings\")\n",
        "transactions_tree.heading(\"Date\", text=\"Date\")\n",
        "transactions_tree.heading(\"Category\", text=\"Category\")\n",
        "transactions_tree.heading(\"Amount\", text=\"Amount\")\n",
        "transactions_tree.grid(row=4, column=0, columnspan=3, padx=5, pady=5)\n",
        "\n",
        "# Create a label to display the total transaction\n",
        "total_label = tk.Label(root, text=\"\")\n",
        "total_label.grid(row=5, column=0, columnspan=2, padx=5, pady=5)\n",
        "\n",
        "# Create a label to show the status of transaction addition and deletion\n",
        "status_label = tk.Label(root, text=\"\", fg=\"green\")\n",
        "status_label.grid(row=6, column=0, columnspan=2, padx=5, pady=5)\n",
        "\n",
        "# Create buttons to view and delete transactions\n",
        "view_button = tk.Button(root, text=\"View Transactions\", command=view_transactions)\n",
        "view_button.grid(row=7, column=0, padx=5, pady=10)\n",
        "\n",
        "delete_button = tk.Button(root, text=\"Delete Transaction\", command=delete_transaction)\n",
        "delete_button.grid(row=7, column=1, padx=5, pady=10)\n",
        "\n",
        "# Check if the 'transactions.txt' file exists; create it if it doesn't\n",
        "if not os.path.exists(\"transactions.txt\"):\n",
        "    with open(\"transactions.txt\", \"w\"):\n",
        "        pass\n",
        "\n",
        "# Display existing transactions on application start\n",
        "view_transactions()\n",
        "\n",
        "root.mainloop()"
      ]
    }
  ]
}